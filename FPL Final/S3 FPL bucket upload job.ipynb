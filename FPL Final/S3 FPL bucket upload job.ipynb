{
 "cells": [
  {
   "cell_type": "markdown",
   "metadata": {},
   "source": [
    "THIS code will upload FPL data into my S3 bucket. I've saved my keys as environment variables using AWS CLI.\n",
    "Ideally "
   ]
  },
  {
   "cell_type": "code",
   "execution_count": 1,
   "metadata": {},
   "outputs": [],
   "source": [
    "import boto3\n",
    "import os"
   ]
  },
  {
   "cell_type": "code",
   "execution_count": 3,
   "metadata": {},
   "outputs": [],
   "source": [
    "s3_resource = boto3.resource('s3')"
   ]
  },
  {
   "cell_type": "code",
   "execution_count": 7,
   "metadata": {},
   "outputs": [
    {
     "name": "stdout",
     "output_type": "stream",
     "text": [
      "johfantasypremierleague\n"
     ]
    }
   ],
   "source": [
    "import boto3\n",
    "s3 = boto3.resource('s3')\n",
    "for bucket in s3.buckets.all():\n",
    "    BUCKET_NAME = bucket.name\n",
    "    print(BUCKET_NAME)"
   ]
  },
  {
   "cell_type": "code",
   "execution_count": 11,
   "metadata": {},
   "outputs": [
    {
     "name": "stdout",
     "output_type": "stream",
     "text": [
      "Putting /Users/jackohagan/Documents/FPL/player/2020-21/EPL-shots.csv as FPL/player/2020-21/EPL/EPL-shots.csv\n",
      "Putting /Users/jackohagan/Documents/FPL/player/2020-21/EPL-key_passes.csv as FPL/player/2020-21/EPL/EPL-key_passes.csv\n",
      "Putting /Users/jackohagan/Documents/FPL/player/2020-21/EPL-goals.csv as FPL/player/2020-21/EPL/EPL-goals.csv\n",
      "Putting /Users/jackohagan/Documents/FPL/player/2020-21/EPL-assists.csv as FPL/player/2020-21/EPL/EPL-assists.csv\n",
      "Putting /Users/jackohagan/Documents/FPL/player/2020-21/EPL-time.csv as FPL/player/2020-21/EPL/EPL-time.csv\n",
      "Putting /Users/jackohagan/Documents/FPL/player/2020-21/EPL-npxG.csv as FPL/player/2020-21/EPL/EPL-npxG.csv\n",
      "Putting /Users/jackohagan/Documents/FPL/player/2020-21/EPL-xG.csv as FPL/player/2020-21/EPL/EPL-xG.csv\n",
      "Putting /Users/jackohagan/Documents/FPL/player/2020-21/EPL-xGBuildup.csv as FPL/player/2020-21/EPL/EPL-xGBuildup.csv\n",
      "Putting /Users/jackohagan/Documents/FPL/player/2020-21/EPL-xA.csv as FPL/player/2020-21/EPL/EPL-xA.csv\n",
      "Putting /Users/jackohagan/Documents/FPL/player/2020-21/EPL-npg.csv as FPL/player/2020-21/EPL/EPL-npg.csv\n",
      "Putting /Users/jackohagan/Documents/FPL/player/2020-21/EPL-xGChain.csv as FPL/player/2020-21/EPL/EPL-xGChain.csv\n",
      "All_Done\n"
     ]
    }
   ],
   "source": [
    "import glob\n",
    "\n",
    "BUCKET_NAME = 'johfantasypremierleague'\n",
    "FOLDER_NAME = 'FPL/player/2020-21/EPL'\n",
    "\n",
    "session = boto3.Session(profile_name='default')\n",
    "s3 = session.client('s3')\n",
    "\n",
    "csv_files = glob.glob(\"/Users/jackohagan/Documents/FPL/player/2020-21/*.csv\")\n",
    "\n",
    "for filename in csv_files:\n",
    "    key = \"%s/%s\" % (FOLDER_NAME, os.path.basename(filename))\n",
    "    print(\"Putting %s as %s\" % (filename,key))\n",
    "    s3.upload_file(filename, BUCKET_NAME, key)\n",
    "\n",
    "print(\"All_Done\")"
   ]
  },
  {
   "cell_type": "code",
   "execution_count": null,
   "metadata": {},
   "outputs": [],
   "source": []
  }
 ],
 "metadata": {
  "kernelspec": {
   "display_name": "Python 3",
   "language": "python",
   "name": "python3"
  },
  "language_info": {
   "codemirror_mode": {
    "name": "ipython",
    "version": 3
   },
   "file_extension": ".py",
   "mimetype": "text/x-python",
   "name": "python",
   "nbconvert_exporter": "python",
   "pygments_lexer": "ipython3",
   "version": "3.8.3"
  }
 },
 "nbformat": 4,
 "nbformat_minor": 4
}
