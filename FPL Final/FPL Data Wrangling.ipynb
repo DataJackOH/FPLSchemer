{
 "cells": [
  {
   "cell_type": "markdown",
   "metadata": {},
   "source": [
    "FPL analysis: Who to trade and when?\n",
    "\n",
    "In this piece of analysis I will be trying to make the best Weekly predictions for an FPL team selection, with the constraints of 1 free transfer.\n",
    "\n",
    "I will be using a GitHub repository from Vaastav, who kindly updates with raw data each week, for the past few seasons (https://github.com/vaastav/Fantasy-Premier-League)\n",
    "\n",
    "The data cleaning and prepartion code has helped by Calum Russel (https://github.com/calumrussell/fpl/blob/master/fplpoints_model.ipynb)\n",
    "\n"
   ]
  },
  {
   "cell_type": "code",
   "execution_count": 4,
   "metadata": {},
   "outputs": [],
   "source": [
    "##import useful libraries\n",
    "import pandas as pd\n",
    "import numpy as np\n",
    "import matplotlib.pyplot as plt \n",
    "import seaborn as sns\n",
    "from sklearn.model_selection import train_test_split\n",
    "from sklearn.linear_model import LinearRegression\n",
    "import itertools\n",
    "from sklearn.pipeline import make_pipeline\n",
    "from sklearn.preprocessing import StandardScaler\n",
    "from sklearn.impute import SimpleImputer\n",
    "from sklearn.pipeline import Pipeline\n",
    "from sklearn.metrics import mean_squared_error\n",
    "from sklearn.naive_bayes import GaussianNB\n",
    "\n",
    "%matplotlib inline"
   ]
  },
  {
   "cell_type": "code",
   "execution_count": 2,
   "metadata": {},
   "outputs": [
    {
     "data": {
      "text/plain": [
       "Index(['name', 'assists', 'bonus', 'bps', 'clean_sheets', 'creativity',\n",
       "       'element', 'fixture', 'goals_conceded', 'goals_scored', 'ict_index',\n",
       "       'influence', 'kickoff_time', 'minutes', 'opponent_team', 'own_goals',\n",
       "       'penalties_missed', 'penalties_saved', 'red_cards', 'round', 'saves',\n",
       "       'selected', 'team_a_score', 'team_h_score', 'threat', 'total_points',\n",
       "       'transfers_balance', 'transfers_in', 'transfers_out', 'value',\n",
       "       'was_home', 'yellow_cards', 'GW'],\n",
       "      dtype='object')"
      ]
     },
     "execution_count": 2,
     "metadata": {},
     "output_type": "execute_result"
    }
   ],
   "source": [
    "#its probably easier to import the merged datasets as seperate dataframes\n",
    "\n",
    "df_2018 =pd.read_csv('https://raw.githubusercontent.com/vaastav/Fantasy-Premier-League/master/data/2018-19/gws/merged_gw.csv', encoding='iso=8859-1', error_bad_lines=False)\n",
    "df_2019 = pd.read_csv('https://raw.githubusercontent.com/vaastav/Fantasy-Premier-League/master/data/2019-20/gws/merged_gw.csv', encoding='iso=8859-1', error_bad_lines=False)\n",
    "df_2020 = pd.read_csv('https://raw.githubusercontent.com/vaastav/Fantasy-Premier-League/master/data/2020-21/gws/merged_gw.csv', encoding='iso=8859-1', error_bad_lines=False)\n",
    "df_2019.columns"
   ]
  },
  {
   "cell_type": "code",
   "execution_count": 3,
   "metadata": {},
   "outputs": [],
   "source": [
    "player_2019 = pd.read_csv('https://raw.githubusercontent.com/DataJackOH/Fantasy-Premier-League/master/data/2019-20/players_raw.csv', encoding='iso=8859-1', error_bad_lines=False)\n",
    "player_2020 = pd.read_csv('https://raw.githubusercontent.com/DataJackOH/Fantasy-Premier-League/master/data/2020-21/players_raw.csv', encoding='iso=8859-1', error_bad_lines=False)\n",
    "player_2019['name']=player_2019['first_name']+player_2019['second_name']\n",
    "player_2020['name']=player_2020['first_name']+player_2020['second_name']\n",
    "\n"
   ]
  },
  {
   "cell_type": "code",
   "execution_count": 4,
   "metadata": {},
   "outputs": [],
   "source": [
    "##fixtures\n",
    "\n",
    "fixture_2018 = pd.read_csv('https://raw.githubusercontent.com/vaastav/Fantasy-Premier-League/master/data/2018-19/fixtures.csv', encoding='iso=8859-1', error_bad_lines=False, parse_dates=['kickoff_time'])\n",
    "fixture_2019 = pd.read_csv('https://raw.githubusercontent.com/vaastav/Fantasy-Premier-League/master/data/2019-20/fixtures.csv', encoding='iso=8859-1', error_bad_lines=False,parse_dates=['kickoff_time'])\n",
    "fixture_2020 = pd.read_csv('https://raw.githubusercontent.com/vaastav/Fantasy-Premier-League/master/data/2020-21/fixtures.csv', encoding='iso=8859-1', error_bad_lines=False, parse_dates=['kickoff_time'])\n",
    "\n"
   ]
  },
  {
   "cell_type": "code",
   "execution_count": 5,
   "metadata": {},
   "outputs": [],
   "source": [
    "##team info \n",
    "team_2019 = pd.read_csv('https://raw.githubusercontent.com/vaastav/Fantasy-Premier-League/master/data/2019-20/teams.csv', encoding='iso=8859-1', error_bad_lines=False)\n",
    "team_2020 = pd.read_csv('https://raw.githubusercontent.com/vaastav/Fantasy-Premier-League/master/data/2020-21/teams.csv', encoding='iso=8859-1', error_bad_lines=False)\n",
    "\n"
   ]
  },
  {
   "cell_type": "code",
   "execution_count": 6,
   "metadata": {},
   "outputs": [],
   "source": [
    "##function to keep data we need\n",
    "def dataClean(players=df_2019, fixtures=fixture_2019, teams=team_2019, players_agg=player_2019):\n",
    "    players = players[['name','value','fixture','opponent_team','total_points','minutes','transfers_balance','was_home','creativity','influence','bonus','threat']]\n",
    "    fixtures = fixtures[['id', 'team_a','team_h']]\n",
    "    teams = teams[['id', 'strength', 'short_name']]\n",
    "    players_agg = players_agg[['id','element_type']].astype('int64')\n",
    "    return players, fixtures, teams, players_agg"
   ]
  },
  {
   "cell_type": "code",
   "execution_count": 7,
   "metadata": {},
   "outputs": [],
   "source": [
    "players, fixtures, teams, players_agg = dataClean(df_2019, fixture_2019, team_2019, player_2019)"
   ]
  },
  {
   "cell_type": "code",
   "execution_count": 8,
   "metadata": {},
   "outputs": [
    {
     "name": "stderr",
     "output_type": "stream",
     "text": [
      "<ipython-input-8-05301c0ff6f1>:1: SettingWithCopyWarning: \n",
      "A value is trying to be set on a copy of a slice from a DataFrame.\n",
      "Try using .loc[row_indexer,col_indexer] = value instead\n",
      "\n",
      "See the caveats in the documentation: https://pandas.pydata.org/pandas-docs/stable/user_guide/indexing.html#returning-a-view-versus-a-copy\n",
      "  players['player_id'] = players['name'].apply(lambda x: x.split(\"_\")[2]).astype('int64')\n"
     ]
    }
   ],
   "source": [
    "players['player_id'] = players['name'].apply(lambda x: x.split(\"_\")[2]).astype('int64')"
   ]
  },
  {
   "cell_type": "code",
   "execution_count": 9,
   "metadata": {},
   "outputs": [],
   "source": [
    "#merging fixtures onto players to get fixture information \n",
    "\n",
    "##Merging the fixtures onto players so we have information about the match and the player's team and opponent\n",
    "merged = players.merge(fixtures, how='left', left_on='fixture', right_on='id')"
   ]
  },
  {
   "cell_type": "code",
   "execution_count": 10,
   "metadata": {},
   "outputs": [],
   "source": [
    "##Merging position onto our players\n",
    "merged = merged.merge(players_agg, how='left', left_on='player_id', right_on='id' )"
   ]
  },
  {
   "cell_type": "code",
   "execution_count": 11,
   "metadata": {},
   "outputs": [],
   "source": [
    "##predicition creator being careful only include data that is available before the game.\n",
    "#create a function to find the most up to date rankings for each team where finished = True\n",
    "def predictionClean(df, col, name):\n",
    "    \"\"\"creates a target column which is the following weeks score, this will be used to build algorithm\"\"\"\n",
    "    shifted = df.groupby('name').shift(-1)\n",
    "    shifted = pd.DataFrame(shifted[col])\n",
    "    df_lag = df.join(shifted.rename(columns=lambda x:  name))\n",
    "    return df_lag"
   ]
  },
  {
   "cell_type": "code",
   "execution_count": 13,
   "metadata": {},
   "outputs": [],
   "source": [
    " #create a function to add form and class to each column, then impute the means\n",
    "def formAndClass(df, form_window=4, class_window=10):\n",
    "    \"\"\"This function creates 'FORM' columns, based on the last 4 games for a player\n",
    "    Default values are 4 for form and 10 weeks for class.\"\"\"\n",
    "    \n",
    "    df['Form'] = df.groupby(['name']).rolling(form_window)['total_points'].mean().reset_index(level=[0,1],drop=True)\n",
    "    df['CreativityForm'] = df.groupby(['name']).rolling(form_window)['creativity'].mean().reset_index(level=[0,1],drop=True)\n",
    "    \n",
    "    df['InfluenceForm'] = df.groupby(['name']).rolling(form_window)['influence'].mean().reset_index(level=[0,1],drop=True)\n",
    "    df['ThreatForm'] = df.groupby(['name']).rolling(form_window)['threat'].mean().reset_index(level=[0,1],drop=True)\n",
    "    df['MinutesAVG'] = df.groupby(['name']).rolling(form_window)['minutes'].mean().reset_index(level=[0,1],drop=True)\n",
    "    \n",
    "    ##impute the mean for each class form pairing\n",
    "    df['Form'] = df['Form'].fillna(df.groupby('name')['Form'].transform('mean'))\n",
    "    df['MinutesAVG'] = df['MinutesAVG'].fillna(df.groupby('name')['MinutesAVG'].transform('mean'))\n",
    "    df['CreativityForm'] = df['CreativityForm'].fillna(df.groupby('name')['CreativityForm'].transform('mean'))\n",
    "    df['ThreatForm'] = df['ThreatForm'].fillna(df.groupby('name')['ThreatForm'].transform('mean'))\n",
    "    df['InfluenceForm'] = df['InfluenceForm'].fillna(df.groupby('name')['InfluenceForm'].transform('mean'))\n",
    "    \n",
    "    return df"
   ]
  },
  {
   "cell_type": "code",
   "execution_count": 14,
   "metadata": {},
   "outputs": [],
   "source": [
    "##Create a row for the player's team\n",
    "merged['team'] = np.where(merged['opponent_team'] == merged['team_a'], merged['team_h'], merged['team_a'])\n",
    "##Create a row for player team difficulty\n",
    "merged = merged.merge(teams, how='left', left_on='team', right_on='id')\n",
    "merged.rename(columns={'strength': 'team_diff', 'short_name': 'team_short'}, inplace=True)\n",
    "##Create a row for opponent team difficulty\n",
    "merged = merged.merge(teams, how='left', left_on='opponent_team', right_on='id')\n",
    "merged.rename(columns={'strength': 'opp_diff', 'short_name': 'opp_short'}, inplace=True)\n",
    "##Create a row for difficulty difference\n",
    "merged['diff_diff'] = merged['team_diff'] - merged['opp_diff']"
   ]
  },
  {
   "cell_type": "code",
   "execution_count": 15,
   "metadata": {},
   "outputs": [],
   "source": [
    "merged = formAndClass(merged)"
   ]
  },
  {
   "cell_type": "code",
   "execution_count": 16,
   "metadata": {},
   "outputs": [],
   "source": [
    "##convert home to int boolean\n",
    "merged['is_home'] = merged['was_home'].astype(int)"
   ]
  },
  {
   "cell_type": "code",
   "execution_count": 17,
   "metadata": {},
   "outputs": [
    {
     "data": {
      "text/html": [
       "<div>\n",
       "<style scoped>\n",
       "    .dataframe tbody tr th:only-of-type {\n",
       "        vertical-align: middle;\n",
       "    }\n",
       "\n",
       "    .dataframe tbody tr th {\n",
       "        vertical-align: top;\n",
       "    }\n",
       "\n",
       "    .dataframe thead th {\n",
       "        text-align: right;\n",
       "    }\n",
       "</style>\n",
       "<table border=\"1\" class=\"dataframe\">\n",
       "  <thead>\n",
       "    <tr style=\"text-align: right;\">\n",
       "      <th></th>\n",
       "      <th>name</th>\n",
       "      <th>value</th>\n",
       "      <th>fixture</th>\n",
       "      <th>opponent_team</th>\n",
       "      <th>total_points</th>\n",
       "      <th>minutes</th>\n",
       "      <th>transfers_balance</th>\n",
       "      <th>was_home</th>\n",
       "      <th>creativity</th>\n",
       "      <th>influence</th>\n",
       "      <th>...</th>\n",
       "      <th>id_y</th>\n",
       "      <th>opp_diff</th>\n",
       "      <th>opp_short</th>\n",
       "      <th>diff_diff</th>\n",
       "      <th>Form</th>\n",
       "      <th>CreativityForm</th>\n",
       "      <th>InfluenceForm</th>\n",
       "      <th>ThreatForm</th>\n",
       "      <th>MinutesAVG</th>\n",
       "      <th>is_home</th>\n",
       "    </tr>\n",
       "  </thead>\n",
       "  <tbody>\n",
       "    <tr>\n",
       "      <th>0</th>\n",
       "      <td>Aaron_Cresswell_376</td>\n",
       "      <td>50</td>\n",
       "      <td>8</td>\n",
       "      <td>11</td>\n",
       "      <td>0</td>\n",
       "      <td>90</td>\n",
       "      <td>0</td>\n",
       "      <td>True</td>\n",
       "      <td>1.5</td>\n",
       "      <td>9.0</td>\n",
       "      <td>...</td>\n",
       "      <td>11</td>\n",
       "      <td>5</td>\n",
       "      <td>MCI</td>\n",
       "      <td>-3</td>\n",
       "      <td>1.195312</td>\n",
       "      <td>5.232031</td>\n",
       "      <td>6.529688</td>\n",
       "      <td>3.109375</td>\n",
       "      <td>31.460938</td>\n",
       "      <td>1</td>\n",
       "    </tr>\n",
       "    <tr>\n",
       "      <th>1</th>\n",
       "      <td>Aaron_Lennon_430</td>\n",
       "      <td>50</td>\n",
       "      <td>3</td>\n",
       "      <td>16</td>\n",
       "      <td>1</td>\n",
       "      <td>6</td>\n",
       "      <td>0</td>\n",
       "      <td>True</td>\n",
       "      <td>0.0</td>\n",
       "      <td>2.0</td>\n",
       "      <td>...</td>\n",
       "      <td>16</td>\n",
       "      <td>3</td>\n",
       "      <td>SOU</td>\n",
       "      <td>0</td>\n",
       "      <td>1.185714</td>\n",
       "      <td>4.010714</td>\n",
       "      <td>7.067143</td>\n",
       "      <td>4.457143</td>\n",
       "      <td>31.742857</td>\n",
       "      <td>1</td>\n",
       "    </tr>\n",
       "    <tr>\n",
       "      <th>2</th>\n",
       "      <td>Aaron_Mooy_516</td>\n",
       "      <td>50</td>\n",
       "      <td>7</td>\n",
       "      <td>18</td>\n",
       "      <td>0</td>\n",
       "      <td>0</td>\n",
       "      <td>0</td>\n",
       "      <td>False</td>\n",
       "      <td>0.0</td>\n",
       "      <td>0.0</td>\n",
       "      <td>...</td>\n",
       "      <td>18</td>\n",
       "      <td>3</td>\n",
       "      <td>WAT</td>\n",
       "      <td>-1</td>\n",
       "      <td>1.411765</td>\n",
       "      <td>5.436765</td>\n",
       "      <td>8.377941</td>\n",
       "      <td>7.338235</td>\n",
       "      <td>34.823529</td>\n",
       "      <td>0</td>\n",
       "    </tr>\n",
       "    <tr>\n",
       "      <th>3</th>\n",
       "      <td>Aaron_Ramsdale_494</td>\n",
       "      <td>45</td>\n",
       "      <td>2</td>\n",
       "      <td>15</td>\n",
       "      <td>2</td>\n",
       "      <td>90</td>\n",
       "      <td>0</td>\n",
       "      <td>True</td>\n",
       "      <td>0.0</td>\n",
       "      <td>9.8</td>\n",
       "      <td>...</td>\n",
       "      <td>15</td>\n",
       "      <td>3</td>\n",
       "      <td>SHU</td>\n",
       "      <td>-1</td>\n",
       "      <td>1.000000</td>\n",
       "      <td>1.450000</td>\n",
       "      <td>0.850000</td>\n",
       "      <td>9.750000</td>\n",
       "      <td>18.750000</td>\n",
       "      <td>1</td>\n",
       "    </tr>\n",
       "    <tr>\n",
       "      <th>4</th>\n",
       "      <td>Aaron_Wan-Bissaka_122</td>\n",
       "      <td>55</td>\n",
       "      <td>9</td>\n",
       "      <td>6</td>\n",
       "      <td>8</td>\n",
       "      <td>90</td>\n",
       "      <td>0</td>\n",
       "      <td>True</td>\n",
       "      <td>16.1</td>\n",
       "      <td>30.4</td>\n",
       "      <td>...</td>\n",
       "      <td>6</td>\n",
       "      <td>4</td>\n",
       "      <td>CHE</td>\n",
       "      <td>0</td>\n",
       "      <td>4.000000</td>\n",
       "      <td>7.375000</td>\n",
       "      <td>18.350000</td>\n",
       "      <td>36.500000</td>\n",
       "      <td>32.500000</td>\n",
       "      <td>1</td>\n",
       "    </tr>\n",
       "  </tbody>\n",
       "</table>\n",
       "<p>5 rows × 32 columns</p>\n",
       "</div>"
      ],
      "text/plain": [
       "                    name  value  fixture  opponent_team  total_points  \\\n",
       "0    Aaron_Cresswell_376     50        8             11             0   \n",
       "1       Aaron_Lennon_430     50        3             16             1   \n",
       "2         Aaron_Mooy_516     50        7             18             0   \n",
       "3     Aaron_Ramsdale_494     45        2             15             2   \n",
       "4  Aaron_Wan-Bissaka_122     55        9              6             8   \n",
       "\n",
       "   minutes  transfers_balance  was_home  creativity  influence  ...  id_y  \\\n",
       "0       90                  0      True         1.5        9.0  ...    11   \n",
       "1        6                  0      True         0.0        2.0  ...    16   \n",
       "2        0                  0     False         0.0        0.0  ...    18   \n",
       "3       90                  0      True         0.0        9.8  ...    15   \n",
       "4       90                  0      True        16.1       30.4  ...     6   \n",
       "\n",
       "   opp_diff  opp_short  diff_diff      Form  CreativityForm  InfluenceForm  \\\n",
       "0         5        MCI         -3  1.195312        5.232031       6.529688   \n",
       "1         3        SOU          0  1.185714        4.010714       7.067143   \n",
       "2         3        WAT         -1  1.411765        5.436765       8.377941   \n",
       "3         3        SHU         -1  1.000000        1.450000       0.850000   \n",
       "4         4        CHE          0  4.000000        7.375000      18.350000   \n",
       "\n",
       "   ThreatForm  MinutesAVG  is_home  \n",
       "0    3.109375   31.460938        1  \n",
       "1    4.457143   31.742857        1  \n",
       "2    7.338235   34.823529        0  \n",
       "3    9.750000   18.750000        1  \n",
       "4   36.500000   32.500000        1  \n",
       "\n",
       "[5 rows x 32 columns]"
      ]
     },
     "execution_count": 17,
     "metadata": {},
     "output_type": "execute_result"
    }
   ],
   "source": [
    "merged.head()"
   ]
  },
  {
   "cell_type": "code",
   "execution_count": 18,
   "metadata": {},
   "outputs": [
    {
     "data": {
      "text/plain": [
       "<matplotlib.axes._subplots.AxesSubplot at 0x7f902a6768e0>"
      ]
     },
     "execution_count": 18,
     "metadata": {},
     "output_type": "execute_result"
    },
    {
     "data": {
      "image/png": "[encoded data removed]",
      "text/plain": [
       "<Figure size 432x288 with 1 Axes>"
      ]
     },
     "metadata": {
      "needs_background": "light"
     },
     "output_type": "display_data"
    }
   ],
   "source": [
    "##lets see how skewed total points is, as our target variables\n",
    "sns.histplot(data=merged, x='total_points', kde=True)"
   ]
  },
  {
   "cell_type": "markdown",
   "metadata": {},
   "source": [
    "the code is massively right skewed, with some negative variables, which makes it a good candidate for a log transformation for the linear regression"
   ]
  },
  {
   "cell_type": "code",
   "execution_count": 19,
   "metadata": {},
   "outputs": [],
   "source": [
    "cleaned = merged.copy(deep=True)\n",
    "\n",
    "cleaned.loc[cleaned['total_points'] < 0, 'total_points'] = 0\n",
    "cleaned['total_points'] = (cleaned['total_points'] + 1).astype('float32')\n",
    "cleaned['log_points'] = np.log(cleaned['total_points'])\n",
    "\n",
    "cleaned = cleaned.drop(cleaned[cleaned.minutes == 0].index)"
   ]
  },
  {
   "cell_type": "code",
   "execution_count": 20,
   "metadata": {},
   "outputs": [
    {
     "data": {
      "text/plain": [
       "<matplotlib.axes._subplots.AxesSubplot at 0x7f902bfd0e50>"
      ]
     },
     "execution_count": 20,
     "metadata": {},
     "output_type": "execute_result"
    },
    {
     "data": {
      "image/png": "[encoded data removed]",
      "text/plain": [
       "<Figure size 432x288 with 1 Axes>"
      ]
     },
     "metadata": {
      "needs_background": "light"
     },
     "output_type": "display_data"
    }
   ],
   "source": [
    "sns.histplot(data=cleaned, x='total_points', kde=True)"
   ]
  },
  {
   "cell_type": "code",
   "execution_count": 21,
   "metadata": {},
   "outputs": [
    {
     "data": {
      "text/plain": [
       "name                 0\n",
       "value                0\n",
       "fixture              0\n",
       "opponent_team        0\n",
       "total_points         0\n",
       "minutes              0\n",
       "transfers_balance    0\n",
       "was_home             0\n",
       "creativity           0\n",
       "influence            0\n",
       "bonus                0\n",
       "threat               0\n",
       "player_id            0\n",
       "id_x                 0\n",
       "team_a               0\n",
       "team_h               0\n",
       "id_y                 0\n",
       "element_type         0\n",
       "team                 0\n",
       "id_x                 0\n",
       "team_diff            0\n",
       "team_short           0\n",
       "id_y                 0\n",
       "opp_diff             0\n",
       "opp_short            0\n",
       "diff_diff            0\n",
       "Form                 0\n",
       "CreativityForm       0\n",
       "InfluenceForm        0\n",
       "ThreatForm           0\n",
       "MinutesAVG           0\n",
       "is_home              0\n",
       "log_points           0\n",
       "dtype: int64"
      ]
     },
     "execution_count": 21,
     "metadata": {},
     "output_type": "execute_result"
    }
   ],
   "source": [
    "cleaned.isnull().sum()"
   ]
  },
  {
   "cell_type": "code",
   "execution_count": 22,
   "metadata": {},
   "outputs": [],
   "source": [
    "##pull in next game info, i.e. difficulty, whether at home, target points.\n",
    "cleaned = predictionClean(cleaned,'opp_diff', 'next_opp_diff')\n",
    "cleaned = predictionClean(cleaned,'opp_short', 'next_opp')\n",
    "cleaned = predictionClean(cleaned,'diff_diff', 'next_diff_diff')\n",
    "cleaned = predictionClean(cleaned,'log_points', 'target_next_points_log')\n",
    "cleaned = predictionClean(cleaned,'total_points', 'target_next_points')\n",
    "cleaned = predictionClean(cleaned,'is_home', 'next_is_home')"
   ]
  },
  {
   "cell_type": "code",
   "execution_count": 23,
   "metadata": {},
   "outputs": [],
   "source": [
    "#drop the null prediction column\n",
    "cleaned = cleaned.dropna(subset=['target_next_points'])"
   ]
  },
  {
   "cell_type": "code",
   "execution_count": 24,
   "metadata": {},
   "outputs": [],
   "source": [
    "##limit to only data we will have prior to kick off \n",
    "#split into X and Y\n",
    "X = cleaned[['value','CreativityForm','InfluenceForm','ThreatForm','MinutesAVG','Form','next_opp_diff','next_diff_diff']].astype('float64')\n",
    "Y = cleaned['target_next_points'].astype('float64')"
   ]
  },
  {
   "cell_type": "code",
   "execution_count": 25,
   "metadata": {},
   "outputs": [],
   "source": [
    "##split train and test sets\n",
    "X_train, X_test, y_train, y_test = train_test_split(\n",
    "     X, Y, test_size=0.33)"
   ]
  },
  {
   "cell_type": "code",
   "execution_count": 26,
   "metadata": {},
   "outputs": [],
   "source": [
    "##make model pipeline \n",
    "model = LinearRegression().fit(X_train, y_train)\n"
   ]
  },
  {
   "cell_type": "code",
   "execution_count": 27,
   "metadata": {},
   "outputs": [
    {
     "name": "stdout",
     "output_type": "stream",
     "text": [
      "coefficient of determination: 0.059490170912679385\n",
      "intercept: 2.526609048063414\n"
     ]
    }
   ],
   "source": [
    "r_sq = model.score(X_test, y_test)\n",
    "print('coefficient of determination:', r_sq)\n",
    "print('intercept:', model.intercept_)\n"
   ]
  },
  {
   "cell_type": "markdown",
   "metadata": {},
   "source": [
    "R2 isn't great, maybe we should try a different approach, potentially adding in xG and xA variables.\n"
   ]
  },
  {
   "cell_type": "code",
   "execution_count": 1,
   "metadata": {},
   "outputs": [],
   "source": [
    "import asyncio\n",
    "import json\n",
    "\n",
    "import aiohttp\n",
    "\n",
    "from understat import Understat\n",
    "import nest_asyncio\n",
    "nest_asyncio.apply()\n",
    "import os\n",
    "import html"
   ]
  },
  {
   "cell_type": "code",
   "execution_count": 2,
   "metadata": {},
   "outputs": [],
   "source": [
    "async def get_data(league, year):\n",
    "    int_stats = [\"goals\", \"shots\", \"time\", \"assists\", \"key_passes\", \"npg\"]\n",
    "    float_stats = [\"xG\", \"xA\", \"npxG\", \"xGChain\", \"xGBuildup\"]\n",
    "    stats = int_stats + float_stats\n",
    "\n",
    "    async with aiohttp.ClientSession() as session:\n",
    "        understat = Understat(session)\n",
    "        t = await understat.get_teams(league, year)\n",
    "        max_fixtures = max(len(x[\"history\"]) for x in t)\n",
    "        teams = [x[\"title\"] for x in t]\n",
    "        data = []\n",
    "\n",
    "        for team in teams:\n",
    "            fixtures = await understat.get_team_results(team, year)\n",
    "            fixture_ids = [x[\"id\"] for x in fixtures]\n",
    "            players = await understat.get_team_players(team, year)\n",
    "            for player in players:\n",
    "                y = await understat.get_player_matches(player[\"id\"], season=str(year))\n",
    "                p_matches = [x[\"id\"] for x in y]\n",
    "\n",
    "                statData = [[\"-\"] * max_fixtures for _ in range(len(stats))]\n",
    "                for i, ID in enumerate(p_matches):\n",
    "                    try:\n",
    "                        for j, stat in enumerate(stats):\n",
    "                            if stat in int_stats:\n",
    "                                statData[j][fixture_ids.index(ID)] = int(y[i][stat])\n",
    "                            else:\n",
    "                                statData[j][fixture_ids.index(ID)] = round(float(y[i][stat]), 4)\n",
    "                    except:\n",
    "                        pass\n",
    "\n",
    "                data.append(\n",
    "                    [\n",
    "                        [player[\"id\"], html.unescape(player[\"player_name\"]), player[\"team_title\"]] +\n",
    "                        statData[i] +\n",
    "                        [round(sum(x for x in statData[i] if x != \"-\"), 4)]\n",
    "                        for i in range(len(statData))\n",
    "                    ]\n",
    "                )\n",
    "\n",
    "        outdir = f\"/Users/jackohagan/Documents/FPL/player/{str(year)}-{str(year + 1)[2:]}/{league}\"\n",
    "        if not os.path.exists(outdir):\n",
    "            os.mkdir(outdir)\n",
    "\n",
    "        for i, stat in enumerate(stats):\n",
    "            df = pd.DataFrame(\n",
    "                [data[x][i] for x in range(len(data))],\n",
    "                columns=[\"id\", \"name\", \"team\"] +\n",
    "                list(range(1, max_fixtures + 1)) +\n",
    "                [\"total\"]\n",
    "            )\n",
    "\n",
    "            df = df.sort_values(by=\"total\", ascending=False)\n",
    "\n",
    "            df.to_csv(\n",
    "                f\"/Users/jackohagan/Documents/FPL/player/{str(year)}-{str(year + 1)[2:]}/{league}-{stat}.csv\",\n",
    "                index=False\n",
    "            )\n"
   ]
  },
  {
   "cell_type": "code",
   "execution_count": 5,
   "metadata": {},
   "outputs": [],
   "source": [
    "\n",
    "\n",
    "async def main():\n",
    "    leagues = [\"EPL\"]\n",
    "    # leagues = [\"EPL\", \"La Liga\", \"Bundesliga\", \"Serie A\"]\n",
    "    return await asyncio.gather(*[get_data(l, 2020) for l in leagues])\n",
    "\n",
    "if __name__ == \"__main__\":\n",
    "    asyncio.get_event_loop().run_until_complete(main())"
   ]
  },
  {
   "cell_type": "code",
   "execution_count": null,
   "metadata": {},
   "outputs": [],
   "source": []
  }
 ],
 "metadata": {
  "kernelspec": {
   "display_name": "Python 3",
   "language": "python",
   "name": "python3"
  },
  "language_info": {
   "codemirror_mode": {
    "name": "ipython",
    "version": 3
   },
   "file_extension": ".py",
   "mimetype": "text/x-python",
   "name": "python",
   "nbconvert_exporter": "python",
   "pygments_lexer": "ipython3",
   "version": "3.8.3"
  }
 },
 "nbformat": 4,
 "nbformat_minor": 4
}
